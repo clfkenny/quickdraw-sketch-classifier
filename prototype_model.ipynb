{
 "cells": [
  {
   "cell_type": "code",
   "execution_count": 1,
   "metadata": {
    "ExecuteTime": {
     "end_time": "2018-07-27T01:15:58.055370Z",
     "start_time": "2018-07-27T01:15:54.570131Z"
    }
   },
   "outputs": [
    {
     "name": "stderr",
     "output_type": "stream",
     "text": [
      "/home/kenny/anaconda3/lib/python3.6/site-packages/h5py/__init__.py:36: FutureWarning: Conversion of the second argument of issubdtype from `float` to `np.floating` is deprecated. In future, it will be treated as `np.float64 == np.dtype(float).type`.\n",
      "  from ._conv import register_converters as _register_converters\n",
      "Using TensorFlow backend.\n"
     ]
    }
   ],
   "source": [
    "from keras.preprocessing.image import ImageDataGenerator\n",
    "from keras.layers import Conv2D, MaxPooling2D, Dense, Flatten, Dropout\n",
    "from keras.models import Sequential, Model\n",
    "from keras.callbacks import TensorBoard, ModelCheckpoint\n",
    "from sgdr import SGDRScheduler\n",
    "\n",
    "import numpy as np\n",
    "import matplotlib.pyplot as plt\n",
    "\n",
    "import keras.backend as K"
   ]
  },
  {
   "cell_type": "code",
   "execution_count": 2,
   "metadata": {
    "ExecuteTime": {
     "end_time": "2018-07-27T01:00:27.639823Z",
     "start_time": "2018-07-27T00:58:39.632882Z"
    }
   },
   "outputs": [
    {
     "name": "stdout",
     "output_type": "stream",
     "text": [
      "Found 3645000 images belonging to 81 classes.\n",
      "Found 202500 images belonging to 81 classes.\n",
      "Data batch shape:  (20, 28, 28, 1)\n",
      "Labels batch shape:  (20, 81)\n"
     ]
    }
   ],
   "source": [
    "train_datagen = ImageDataGenerator(rescale=1./255)\n",
    "test_datagen = ImageDataGenerator(rescale = 1./255)\n",
    "\n",
    "train_dir = \"./train\"\n",
    "validation_dir = \"./test\"\n",
    "\n",
    "train_generator = train_datagen.flow_from_directory(\n",
    "    train_dir, \n",
    "    target_size = (28,28),\n",
    "    batch_size=20,\n",
    "    class_mode= 'categorical',\n",
    "    color_mode = 'grayscale')\n",
    "\n",
    "validation_generator = test_datagen.flow_from_directory(\n",
    "    validation_dir,\n",
    "    target_size = (28,28),\n",
    "    batch_size=20,\n",
    "    class_mode = 'categorical',\n",
    "    color_mode = 'grayscale')\n",
    "\n",
    "for data_batch, labels_batch in train_generator:\n",
    "    print('Data batch shape: ', data_batch.shape)\n",
    "    print('Labels batch shape: ', labels_batch.shape)\n",
    "    break"
   ]
  },
  {
   "cell_type": "code",
   "execution_count": 80,
   "metadata": {
    "ExecuteTime": {
     "end_time": "2018-07-26T01:20:03.507729Z",
     "start_time": "2018-07-26T01:20:03.502964Z"
    }
   },
   "outputs": [],
   "source": [
    "# callbacks\n",
    "epochs = 10000\n",
    "batch_size = 64\n",
    "epoch_size = 15000\n",
    "\n",
    "schedule = SGDRScheduler(min_lr=1e-5,\n",
    "                         max_lr=1e-3,\n",
    "                         steps_per_epoch=np.ceil(epoch_size/batch_size),\n",
    "                         lr_decay=0.9,\n",
    "                         cycle_length=10,\n",
    "                         mult_factor=1.5)\n",
    "\n",
    "tensorboard = TensorBoard(log_dir='./graph', histogram_freq=0,\n",
    "                          write_graph=True, write_images=False)\n",
    "filepath=\"models/checkpoints/best_weights.hdf5\"\n",
    "checkpoint = ModelCheckpoint(filepath, monitor='val_acc', verbose=1, save_best_only=True, mode='max')"
   ]
  },
  {
   "cell_type": "code",
   "execution_count": 72,
   "metadata": {
    "ExecuteTime": {
     "end_time": "2018-07-25T23:59:55.858387Z",
     "start_time": "2018-07-25T23:59:55.744363Z"
    },
    "scrolled": true
   },
   "outputs": [
    {
     "name": "stdout",
     "output_type": "stream",
     "text": [
      "\n",
      "Clearing old graphs...\n"
     ]
    }
   ],
   "source": [
    "# construct model\n",
    "\n",
    "print('\\nClearing old graphs...')\n",
    "graph = os.listdir('graph')\n",
    "for file in graph:\n",
    "  os.remove('graph/{}'.format(file))\n",
    "\n",
    "K.clear_session()\n",
    "model = Sequential()\n",
    "model.add(Conv2D(32, (2,2), activation = 'relu', input_shape = (28, 28, 1)))\n",
    "model.add(MaxPooling2D((2,2)))\n",
    "model.add(Conv2D(64, (2,2), activation = 'relu'))\n",
    "model.add(MaxPooling2D((2,2)))\n",
    "model.add(Conv2D(128, (2,2), activation = 'relu'))\n",
    "model.add(MaxPooling2D((2,2)))\n",
    "model.add(Dropout(0.3))\n",
    "model.add(Flatten())\n",
    "\n",
    "model.add(Dense(512, activation = 'relu'))\n",
    "model.add(Dropout(0.5))\n",
    "model.add(Dense(89, activation = 'softmax'))\n",
    "\n",
    "model.compile(loss = 'categorical_crossentropy', optimizer = 'adam', metrics = ['acc'])\n"
   ]
  },
  {
   "cell_type": "code",
   "execution_count": 73,
   "metadata": {
    "ExecuteTime": {
     "end_time": "2018-07-26T00:02:05.529466Z",
     "start_time": "2018-07-25T23:59:58.550386Z"
    },
    "collapsed": true
   },
   "outputs": [
    {
     "data": {
      "text/plain": [
       "3766"
      ]
     },
     "execution_count": 73,
     "metadata": {},
     "output_type": "execute_result"
    },
    {
     "name": "stdout",
     "output_type": "stream",
     "text": [
      "Epoch 1/10000\n",
      "100/100 [==============================] - 1s 14ms/step - loss: 4.4863 - acc: 0.0185 - val_loss: 4.4560 - val_acc: 0.0270\n",
      "\n",
      "Epoch 00001: val_acc did not improve from 0.61800\n",
      "Epoch 2/10000\n",
      "100/100 [==============================] - 3s 29ms/step - loss: 4.3150 - acc: 0.0415 - val_loss: 4.1001 - val_acc: 0.0580\n",
      "\n",
      "Epoch 00002: val_acc did not improve from 0.61800\n",
      "Epoch 3/10000\n",
      "100/100 [==============================] - 3s 29ms/step - loss: 3.8806 - acc: 0.0955 - val_loss: 3.6984 - val_acc: 0.1220\n",
      "\n",
      "Epoch 00003: val_acc did not improve from 0.61800\n",
      "Epoch 4/10000\n",
      "100/100 [==============================] - 1s 10ms/step - loss: 3.6510 - acc: 0.1410 - val_loss: 3.4565 - val_acc: 0.1950\n",
      "\n",
      "Epoch 00004: val_acc did not improve from 0.61800\n",
      "Epoch 5/10000\n",
      "100/100 [==============================] - 1s 10ms/step - loss: 3.4711 - acc: 0.1645 - val_loss: 3.2867 - val_acc: 0.2160\n",
      "\n",
      "Epoch 00005: val_acc did not improve from 0.61800\n",
      "Epoch 6/10000\n",
      "100/100 [==============================] - 1s 10ms/step - loss: 3.3154 - acc: 0.1910 - val_loss: 3.1337 - val_acc: 0.2430\n",
      "\n",
      "Epoch 00006: val_acc did not improve from 0.61800\n",
      "Epoch 7/10000\n",
      "100/100 [==============================] - 1s 12ms/step - loss: 3.2151 - acc: 0.2175 - val_loss: 3.0193 - val_acc: 0.2870\n",
      "\n",
      "Epoch 00007: val_acc did not improve from 0.61800\n",
      "Epoch 8/10000\n",
      "100/100 [==============================] - 1s 12ms/step - loss: 3.1151 - acc: 0.2360 - val_loss: 2.9474 - val_acc: 0.2960\n",
      "\n",
      "Epoch 00008: val_acc did not improve from 0.61800\n",
      "Epoch 9/10000\n",
      "100/100 [==============================] - 1s 12ms/step - loss: 3.0240 - acc: 0.2480 - val_loss: 2.8217 - val_acc: 0.3280\n",
      "\n",
      "Epoch 00009: val_acc did not improve from 0.61800\n",
      "Epoch 10/10000\n",
      "100/100 [==============================] - 4s 41ms/step - loss: 2.9539 - acc: 0.2845 - val_loss: 2.6846 - val_acc: 0.3480\n",
      "\n",
      "Epoch 00010: val_acc did not improve from 0.61800\n",
      "Epoch 11/10000\n",
      "100/100 [==============================] - 3s 27ms/step - loss: 2.8773 - acc: 0.2940 - val_loss: 2.5887 - val_acc: 0.3760\n",
      "\n",
      "Epoch 00011: val_acc did not improve from 0.61800\n",
      "Epoch 12/10000\n",
      "100/100 [==============================] - 2s 19ms/step - loss: 2.8801 - acc: 0.2745 - val_loss: 2.5740 - val_acc: 0.3710\n",
      "\n",
      "Epoch 00012: val_acc did not improve from 0.61800\n",
      "Epoch 13/10000\n",
      "100/100 [==============================] - 2s 21ms/step - loss: 2.7702 - acc: 0.3110 - val_loss: 2.4892 - val_acc: 0.3830\n",
      "\n",
      "Epoch 00013: val_acc did not improve from 0.61800\n",
      "Epoch 14/10000\n",
      "100/100 [==============================] - 2s 16ms/step - loss: 2.6288 - acc: 0.3385 - val_loss: 2.4254 - val_acc: 0.4110\n",
      "\n",
      "Epoch 00014: val_acc did not improve from 0.61800\n",
      "Epoch 15/10000\n",
      "100/100 [==============================] - 1s 12ms/step - loss: 2.6270 - acc: 0.3480 - val_loss: 2.4507 - val_acc: 0.3960\n",
      "\n",
      "Epoch 00015: val_acc did not improve from 0.61800\n",
      "Epoch 16/10000\n",
      "100/100 [==============================] - 1s 13ms/step - loss: 2.6404 - acc: 0.3480 - val_loss: 2.4286 - val_acc: 0.4090\n",
      "\n",
      "Epoch 00016: val_acc did not improve from 0.61800\n",
      "Epoch 17/10000\n",
      "100/100 [==============================] - 1s 14ms/step - loss: 2.5727 - acc: 0.3590 - val_loss: 2.3223 - val_acc: 0.4410\n",
      "\n",
      "Epoch 00017: val_acc did not improve from 0.61800\n",
      "Epoch 18/10000\n",
      "100/100 [==============================] - 1s 13ms/step - loss: 2.4691 - acc: 0.3650 - val_loss: 2.2701 - val_acc: 0.4500\n",
      "\n",
      "Epoch 00018: val_acc did not improve from 0.61800\n",
      "Epoch 19/10000\n",
      "100/100 [==============================] - 3s 33ms/step - loss: 2.4853 - acc: 0.3750 - val_loss: 2.2422 - val_acc: 0.4570\n",
      "\n",
      "Epoch 00019: val_acc did not improve from 0.61800\n",
      "Epoch 20/10000\n",
      "100/100 [==============================] - 3s 26ms/step - loss: 2.4718 - acc: 0.3680 - val_loss: 2.2015 - val_acc: 0.4550\n",
      "\n",
      "Epoch 00020: val_acc did not improve from 0.61800\n",
      "Epoch 21/10000\n",
      "100/100 [==============================] - 1s 12ms/step - loss: 2.4070 - acc: 0.4070 - val_loss: 2.1566 - val_acc: 0.4640\n",
      "\n",
      "Epoch 00021: val_acc did not improve from 0.61800\n",
      "Epoch 22/10000\n",
      "100/100 [==============================] - 1s 12ms/step - loss: 2.4543 - acc: 0.3865 - val_loss: 2.1696 - val_acc: 0.4660\n",
      "\n",
      "Epoch 00022: val_acc did not improve from 0.61800\n",
      "Epoch 23/10000\n",
      "100/100 [==============================] - 1s 13ms/step - loss: 2.3929 - acc: 0.3900 - val_loss: 2.1405 - val_acc: 0.4600\n",
      "\n",
      "Epoch 00023: val_acc did not improve from 0.61800\n",
      "Epoch 24/10000\n",
      "100/100 [==============================] - 1s 12ms/step - loss: 2.3539 - acc: 0.3915 - val_loss: 2.1106 - val_acc: 0.4660\n",
      "\n",
      "Epoch 00024: val_acc did not improve from 0.61800\n",
      "Epoch 25/10000\n",
      "100/100 [==============================] - 2s 23ms/step - loss: 2.3355 - acc: 0.4080 - val_loss: 2.1025 - val_acc: 0.4740\n",
      "\n",
      "Epoch 00025: val_acc did not improve from 0.61800\n",
      "Epoch 26/10000\n",
      "100/100 [==============================] - 3s 32ms/step - loss: 2.2943 - acc: 0.4255 - val_loss: 2.0669 - val_acc: 0.4860\n",
      "\n",
      "Epoch 00026: val_acc did not improve from 0.61800\n",
      "Epoch 27/10000\n",
      "100/100 [==============================] - 1s 13ms/step - loss: 2.3611 - acc: 0.4140 - val_loss: 2.0505 - val_acc: 0.4920\n",
      "\n",
      "Epoch 00027: val_acc did not improve from 0.61800\n",
      "Epoch 28/10000\n",
      "100/100 [==============================] - 1s 11ms/step - loss: 2.1931 - acc: 0.4345 - val_loss: 2.0056 - val_acc: 0.4800\n",
      "\n",
      "Epoch 00028: val_acc did not improve from 0.61800\n",
      "Epoch 29/10000\n",
      "100/100 [==============================] - 1s 11ms/step - loss: 2.2980 - acc: 0.4350 - val_loss: 2.0123 - val_acc: 0.4850\n",
      "\n",
      "Epoch 00029: val_acc did not improve from 0.61800\n",
      "Epoch 30/10000\n",
      "100/100 [==============================] - 1s 10ms/step - loss: 2.2788 - acc: 0.4270 - val_loss: 1.9745 - val_acc: 0.5010\n",
      "\n",
      "Epoch 00030: val_acc did not improve from 0.61800\n",
      "Epoch 31/10000\n",
      "100/100 [==============================] - 1s 13ms/step - loss: 2.2965 - acc: 0.4340 - val_loss: 1.9804 - val_acc: 0.5050\n",
      "\n",
      "Epoch 00031: val_acc did not improve from 0.61800\n",
      "Epoch 32/10000\n",
      "100/100 [==============================] - 1s 11ms/step - loss: 2.1914 - acc: 0.4325 - val_loss: 1.9248 - val_acc: 0.5080\n",
      "\n",
      "Epoch 00032: val_acc did not improve from 0.61800\n",
      "Epoch 33/10000\n",
      "100/100 [==============================] - 1s 12ms/step - loss: 2.1554 - acc: 0.4470 - val_loss: 1.9202 - val_acc: 0.5260\n",
      "\n",
      "Epoch 00033: val_acc did not improve from 0.61800\n",
      "Epoch 34/10000\n",
      "100/100 [==============================] - 1s 10ms/step - loss: 2.0757 - acc: 0.4485 - val_loss: 1.9766 - val_acc: 0.4990\n",
      "\n",
      "Epoch 00034: val_acc did not improve from 0.61800\n",
      "Epoch 35/10000\n",
      "100/100 [==============================] - 1s 11ms/step - loss: 2.1277 - acc: 0.4575 - val_loss: 1.9176 - val_acc: 0.5070\n",
      "\n",
      "Epoch 00035: val_acc did not improve from 0.61800\n",
      "Epoch 36/10000\n",
      "100/100 [==============================] - 1s 11ms/step - loss: 2.1824 - acc: 0.4545 - val_loss: 1.8884 - val_acc: 0.5190\n",
      "\n",
      "Epoch 00036: val_acc did not improve from 0.61800\n",
      "Epoch 37/10000\n",
      "100/100 [==============================] - 1s 11ms/step - loss: 2.1508 - acc: 0.4430 - val_loss: 1.8907 - val_acc: 0.5160\n",
      "\n",
      "Epoch 00037: val_acc did not improve from 0.61800\n",
      "Epoch 38/10000\n",
      "100/100 [==============================] - 1s 10ms/step - loss: 2.1244 - acc: 0.4740 - val_loss: 1.8421 - val_acc: 0.5360\n",
      "\n",
      "Epoch 00038: val_acc did not improve from 0.61800\n",
      "Epoch 39/10000\n",
      "100/100 [==============================] - 1s 11ms/step - loss: 2.1197 - acc: 0.4705 - val_loss: 1.8329 - val_acc: 0.5490\n",
      "\n",
      "Epoch 00039: val_acc did not improve from 0.61800\n",
      "Epoch 40/10000\n",
      "100/100 [==============================] - 1s 11ms/step - loss: 2.1466 - acc: 0.4645 - val_loss: 1.8767 - val_acc: 0.5220\n",
      "\n",
      "Epoch 00040: val_acc did not improve from 0.61800\n",
      "Epoch 41/10000\n",
      "100/100 [==============================] - 1s 10ms/step - loss: 2.0304 - acc: 0.4840 - val_loss: 1.8290 - val_acc: 0.5410\n",
      "\n",
      "Epoch 00041: val_acc did not improve from 0.61800\n",
      "Epoch 42/10000\n",
      "100/100 [==============================] - 3s 27ms/step - loss: 2.1543 - acc: 0.4610 - val_loss: 1.8017 - val_acc: 0.5480\n",
      "\n",
      "Epoch 00042: val_acc did not improve from 0.61800\n",
      "Epoch 43/10000\n",
      "100/100 [==============================] - 3s 31ms/step - loss: 2.0850 - acc: 0.4670 - val_loss: 1.8302 - val_acc: 0.5310\n",
      "\n",
      "Epoch 00043: val_acc did not improve from 0.61800\n",
      "Epoch 44/10000\n",
      "100/100 [==============================] - 1s 11ms/step - loss: 2.1516 - acc: 0.4750 - val_loss: 1.8199 - val_acc: 0.5500\n"
     ]
    },
    {
     "name": "stdout",
     "output_type": "stream",
     "text": [
      "\n",
      "Epoch 00044: val_acc did not improve from 0.61800\n",
      "Epoch 45/10000\n",
      "100/100 [==============================] - 1s 11ms/step - loss: 2.0760 - acc: 0.4805 - val_loss: 1.7825 - val_acc: 0.5510\n",
      "\n",
      "Epoch 00045: val_acc did not improve from 0.61800\n",
      "Epoch 46/10000\n",
      "100/100 [==============================] - 1s 11ms/step - loss: 2.1003 - acc: 0.4795 - val_loss: 1.7726 - val_acc: 0.5550\n",
      "\n",
      "Epoch 00046: val_acc did not improve from 0.61800\n",
      "Epoch 47/10000\n",
      "100/100 [==============================] - 2s 19ms/step - loss: 2.0971 - acc: 0.4675 - val_loss: 1.7436 - val_acc: 0.5640\n",
      "\n",
      "Epoch 00047: val_acc did not improve from 0.61800\n",
      "Epoch 48/10000\n",
      "100/100 [==============================] - 3s 31ms/step - loss: 2.0107 - acc: 0.4935 - val_loss: 1.7224 - val_acc: 0.5610\n",
      "\n",
      "Epoch 00048: val_acc did not improve from 0.61800\n",
      "Epoch 49/10000\n",
      "100/100 [==============================] - 2s 20ms/step - loss: 2.0351 - acc: 0.4740 - val_loss: 1.7263 - val_acc: 0.5480\n",
      "\n",
      "Epoch 00049: val_acc did not improve from 0.61800\n",
      "Epoch 50/10000\n",
      "100/100 [==============================] - 1s 12ms/step - loss: 1.9669 - acc: 0.4985 - val_loss: 1.7298 - val_acc: 0.5590\n",
      "\n",
      "Epoch 00050: val_acc did not improve from 0.61800\n",
      "Epoch 51/10000\n",
      "100/100 [==============================] - 1s 12ms/step - loss: 2.0035 - acc: 0.4905 - val_loss: 1.7353 - val_acc: 0.5620\n",
      "\n",
      "Epoch 00051: val_acc did not improve from 0.61800\n",
      "Epoch 52/10000\n",
      "100/100 [==============================] - 1s 11ms/step - loss: 1.9561 - acc: 0.5015 - val_loss: 1.6981 - val_acc: 0.5600\n",
      "\n",
      "Epoch 00052: val_acc did not improve from 0.61800\n",
      "Epoch 53/10000\n",
      "100/100 [==============================] - 1s 11ms/step - loss: 1.9903 - acc: 0.4990 - val_loss: 1.7097 - val_acc: 0.5530\n",
      "\n",
      "Epoch 00053: val_acc did not improve from 0.61800\n",
      "Epoch 54/10000\n",
      "100/100 [==============================] - 1s 12ms/step - loss: 1.9524 - acc: 0.4970 - val_loss: 1.6934 - val_acc: 0.5670\n",
      "\n",
      "Epoch 00054: val_acc did not improve from 0.61800\n",
      "Epoch 55/10000\n",
      "100/100 [==============================] - 1s 11ms/step - loss: 2.0073 - acc: 0.4880 - val_loss: 1.6718 - val_acc: 0.5750\n",
      "\n",
      "Epoch 00055: val_acc did not improve from 0.61800\n",
      "Epoch 56/10000\n",
      "100/100 [==============================] - 1s 10ms/step - loss: 1.9142 - acc: 0.5120 - val_loss: 1.6486 - val_acc: 0.5810\n",
      "\n",
      "Epoch 00056: val_acc did not improve from 0.61800\n",
      "Epoch 57/10000\n",
      "100/100 [==============================] - 1s 12ms/step - loss: 1.9031 - acc: 0.5105 - val_loss: 1.6621 - val_acc: 0.5720\n",
      "\n",
      "Epoch 00057: val_acc did not improve from 0.61800\n",
      "Epoch 58/10000\n",
      "100/100 [==============================] - 1s 11ms/step - loss: 1.9283 - acc: 0.5080 - val_loss: 1.6382 - val_acc: 0.5810\n",
      "\n",
      "Epoch 00058: val_acc did not improve from 0.61800\n",
      "Epoch 59/10000\n",
      "100/100 [==============================] - 1s 11ms/step - loss: 1.9565 - acc: 0.5005 - val_loss: 1.6651 - val_acc: 0.5680\n",
      "\n",
      "Epoch 00059: val_acc did not improve from 0.61800\n",
      "Epoch 60/10000\n",
      "100/100 [==============================] - 1s 11ms/step - loss: 1.9123 - acc: 0.5120 - val_loss: 1.6357 - val_acc: 0.5830\n",
      "\n",
      "Epoch 00060: val_acc did not improve from 0.61800\n",
      "Epoch 61/10000\n",
      "100/100 [==============================] - 1s 11ms/step - loss: 1.9972 - acc: 0.4960 - val_loss: 1.6737 - val_acc: 0.5760\n",
      "\n",
      "Epoch 00061: val_acc did not improve from 0.61800\n",
      "Epoch 62/10000\n",
      "100/100 [==============================] - 3s 31ms/step - loss: 1.9845 - acc: 0.4900 - val_loss: 1.6325 - val_acc: 0.5890\n",
      "\n",
      "Epoch 00062: val_acc did not improve from 0.61800\n",
      "Epoch 63/10000\n",
      "100/100 [==============================] - 2s 25ms/step - loss: 1.8848 - acc: 0.5240 - val_loss: 1.6367 - val_acc: 0.5840\n",
      "\n",
      "Epoch 00063: val_acc did not improve from 0.61800\n",
      "Epoch 64/10000\n",
      "100/100 [==============================] - 1s 12ms/step - loss: 1.9588 - acc: 0.4985 - val_loss: 1.5965 - val_acc: 0.6020\n",
      "\n",
      "Epoch 00064: val_acc did not improve from 0.61800\n",
      "Epoch 65/10000\n",
      "100/100 [==============================] - 1s 11ms/step - loss: 1.8787 - acc: 0.5380 - val_loss: 1.6396 - val_acc: 0.5980\n",
      "\n",
      "Epoch 00065: val_acc did not improve from 0.61800\n",
      "Epoch 66/10000\n",
      "100/100 [==============================] - 2s 18ms/step - loss: 1.9039 - acc: 0.5195 - val_loss: 1.6039 - val_acc: 0.5830\n",
      "\n",
      "Epoch 00066: val_acc did not improve from 0.61800\n",
      "Epoch 67/10000\n",
      "100/100 [==============================] - 3s 33ms/step - loss: 1.8341 - acc: 0.5185 - val_loss: 1.6359 - val_acc: 0.5830\n",
      "\n",
      "Epoch 00067: val_acc did not improve from 0.61800\n",
      "Epoch 68/10000\n",
      "100/100 [==============================] - 2s 18ms/step - loss: 1.8438 - acc: 0.5270 - val_loss: 1.6186 - val_acc: 0.5940\n",
      "\n",
      "Epoch 00068: val_acc did not improve from 0.61800\n",
      "Epoch 69/10000\n",
      "100/100 [==============================] - 1s 11ms/step - loss: 1.8758 - acc: 0.5160 - val_loss: 1.5740 - val_acc: 0.6020\n",
      "\n",
      "Epoch 00069: val_acc did not improve from 0.61800\n",
      "Epoch 70/10000\n",
      "100/100 [==============================] - 1s 11ms/step - loss: 1.8622 - acc: 0.5260 - val_loss: 1.5662 - val_acc: 0.5850\n",
      "\n",
      "Epoch 00070: val_acc did not improve from 0.61800\n",
      "Epoch 71/10000\n",
      "100/100 [==============================] - 1s 13ms/step - loss: 1.8688 - acc: 0.5090 - val_loss: 1.5771 - val_acc: 0.5820\n",
      "\n",
      "Epoch 00071: val_acc did not improve from 0.61800\n",
      "Epoch 72/10000\n",
      "100/100 [==============================] - 1s 11ms/step - loss: 1.8564 - acc: 0.5180 - val_loss: 1.6019 - val_acc: 0.5990\n",
      "\n",
      "Epoch 00072: val_acc did not improve from 0.61800\n",
      "Epoch 73/10000\n",
      "100/100 [==============================] - 1s 11ms/step - loss: 1.8691 - acc: 0.5340 - val_loss: 1.5884 - val_acc: 0.6010\n",
      "\n",
      "Epoch 00073: val_acc did not improve from 0.61800\n",
      "Epoch 74/10000\n",
      "100/100 [==============================] - 1s 11ms/step - loss: 1.8437 - acc: 0.5325 - val_loss: 1.5602 - val_acc: 0.6040\n",
      "\n",
      "Epoch 00074: val_acc did not improve from 0.61800\n",
      "Epoch 75/10000\n",
      "100/100 [==============================] - 1s 11ms/step - loss: 1.8484 - acc: 0.5320 - val_loss: 1.5629 - val_acc: 0.6060\n",
      "\n",
      "Epoch 00075: val_acc did not improve from 0.61800\n",
      "Epoch 76/10000\n",
      "100/100 [==============================] - 1s 11ms/step - loss: 1.8647 - acc: 0.5300 - val_loss: 1.5409 - val_acc: 0.6120\n",
      "\n",
      "Epoch 00076: val_acc did not improve from 0.61800\n",
      "Epoch 77/10000\n",
      "100/100 [==============================] - 1s 11ms/step - loss: 1.7821 - acc: 0.5435 - val_loss: 1.5362 - val_acc: 0.5930\n",
      "\n",
      "Epoch 00077: val_acc did not improve from 0.61800\n",
      "Epoch 78/10000\n",
      "100/100 [==============================] - 1s 11ms/step - loss: 1.8255 - acc: 0.5400 - val_loss: 1.5707 - val_acc: 0.6090\n",
      "\n",
      "Epoch 00078: val_acc did not improve from 0.61800\n",
      "Epoch 79/10000\n",
      "100/100 [==============================] - 3s 28ms/step - loss: 1.8366 - acc: 0.5305 - val_loss: 1.5163 - val_acc: 0.6130\n",
      "\n",
      "Epoch 00079: val_acc did not improve from 0.61800\n",
      "Epoch 80/10000\n",
      "100/100 [==============================] - 3s 28ms/step - loss: 1.8191 - acc: 0.5360 - val_loss: 1.5463 - val_acc: 0.6130\n",
      "\n",
      "Epoch 00080: val_acc did not improve from 0.61800\n",
      "Epoch 81/10000\n",
      " 70/100 [====================>.........] - ETA: 0s - loss: 1.8310 - acc: 0.5400"
     ]
    },
    {
     "ename": "KeyboardInterrupt",
     "evalue": "",
     "output_type": "error",
     "traceback": [
      "\u001b[0;31m---------------------------------------------------------------------------\u001b[0m",
      "\u001b[0;31mKeyboardInterrupt\u001b[0m                         Traceback (most recent call last)",
      "\u001b[0;32m<ipython-input-73-185be0c8aa0c>\u001b[0m in \u001b[0;36m<module>\u001b[0;34m()\u001b[0m\n\u001b[1;32m      9\u001b[0m     \u001b[0mvalidation_data\u001b[0m \u001b[0;34m=\u001b[0m \u001b[0mvalidation_generator\u001b[0m\u001b[0;34m,\u001b[0m\u001b[0;34m\u001b[0m\u001b[0m\n\u001b[1;32m     10\u001b[0m     \u001b[0mvalidation_steps\u001b[0m\u001b[0;34m=\u001b[0m\u001b[0;36m50\u001b[0m\u001b[0;34m,\u001b[0m\u001b[0;34m\u001b[0m\u001b[0m\n\u001b[0;32m---> 11\u001b[0;31m     callbacks = [schedule, tensorboard, checkpoint])\n\u001b[0m",
      "\u001b[0;32m~/anaconda3/lib/python3.6/site-packages/keras/legacy/interfaces.py\u001b[0m in \u001b[0;36mwrapper\u001b[0;34m(*args, **kwargs)\u001b[0m\n\u001b[1;32m     89\u001b[0m                 warnings.warn('Update your `' + object_name +\n\u001b[1;32m     90\u001b[0m                               '` call to the Keras 2 API: ' + signature, stacklevel=2)\n\u001b[0;32m---> 91\u001b[0;31m             \u001b[0;32mreturn\u001b[0m \u001b[0mfunc\u001b[0m\u001b[0;34m(\u001b[0m\u001b[0;34m*\u001b[0m\u001b[0margs\u001b[0m\u001b[0;34m,\u001b[0m \u001b[0;34m**\u001b[0m\u001b[0mkwargs\u001b[0m\u001b[0;34m)\u001b[0m\u001b[0;34m\u001b[0m\u001b[0m\n\u001b[0m\u001b[1;32m     92\u001b[0m         \u001b[0mwrapper\u001b[0m\u001b[0;34m.\u001b[0m\u001b[0m_original_function\u001b[0m \u001b[0;34m=\u001b[0m \u001b[0mfunc\u001b[0m\u001b[0;34m\u001b[0m\u001b[0m\n\u001b[1;32m     93\u001b[0m         \u001b[0;32mreturn\u001b[0m \u001b[0mwrapper\u001b[0m\u001b[0;34m\u001b[0m\u001b[0m\n",
      "\u001b[0;32m~/anaconda3/lib/python3.6/site-packages/keras/engine/training.py\u001b[0m in \u001b[0;36mfit_generator\u001b[0;34m(self, generator, steps_per_epoch, epochs, verbose, callbacks, validation_data, validation_steps, class_weight, max_queue_size, workers, use_multiprocessing, shuffle, initial_epoch)\u001b[0m\n\u001b[1;32m   1424\u001b[0m             \u001b[0muse_multiprocessing\u001b[0m\u001b[0;34m=\u001b[0m\u001b[0muse_multiprocessing\u001b[0m\u001b[0;34m,\u001b[0m\u001b[0;34m\u001b[0m\u001b[0m\n\u001b[1;32m   1425\u001b[0m             \u001b[0mshuffle\u001b[0m\u001b[0;34m=\u001b[0m\u001b[0mshuffle\u001b[0m\u001b[0;34m,\u001b[0m\u001b[0;34m\u001b[0m\u001b[0m\n\u001b[0;32m-> 1426\u001b[0;31m             initial_epoch=initial_epoch)\n\u001b[0m\u001b[1;32m   1427\u001b[0m \u001b[0;34m\u001b[0m\u001b[0m\n\u001b[1;32m   1428\u001b[0m     \u001b[0;34m@\u001b[0m\u001b[0minterfaces\u001b[0m\u001b[0;34m.\u001b[0m\u001b[0mlegacy_generator_methods_support\u001b[0m\u001b[0;34m\u001b[0m\u001b[0m\n",
      "\u001b[0;32m~/anaconda3/lib/python3.6/site-packages/keras/engine/training_generator.py\u001b[0m in \u001b[0;36mfit_generator\u001b[0;34m(model, generator, steps_per_epoch, epochs, verbose, callbacks, validation_data, validation_steps, class_weight, max_queue_size, workers, use_multiprocessing, shuffle, initial_epoch)\u001b[0m\n\u001b[1;32m    153\u001b[0m             \u001b[0mbatch_index\u001b[0m \u001b[0;34m=\u001b[0m \u001b[0;36m0\u001b[0m\u001b[0;34m\u001b[0m\u001b[0m\n\u001b[1;32m    154\u001b[0m             \u001b[0;32mwhile\u001b[0m \u001b[0msteps_done\u001b[0m \u001b[0;34m<\u001b[0m \u001b[0msteps_per_epoch\u001b[0m\u001b[0;34m:\u001b[0m\u001b[0;34m\u001b[0m\u001b[0m\n\u001b[0;32m--> 155\u001b[0;31m                 \u001b[0mgenerator_output\u001b[0m \u001b[0;34m=\u001b[0m \u001b[0mnext\u001b[0m\u001b[0;34m(\u001b[0m\u001b[0moutput_generator\u001b[0m\u001b[0;34m)\u001b[0m\u001b[0;34m\u001b[0m\u001b[0m\n\u001b[0m\u001b[1;32m    156\u001b[0m \u001b[0;34m\u001b[0m\u001b[0m\n\u001b[1;32m    157\u001b[0m                 \u001b[0;32mif\u001b[0m \u001b[0;32mnot\u001b[0m \u001b[0mhasattr\u001b[0m\u001b[0;34m(\u001b[0m\u001b[0mgenerator_output\u001b[0m\u001b[0;34m,\u001b[0m \u001b[0;34m'__len__'\u001b[0m\u001b[0;34m)\u001b[0m\u001b[0;34m:\u001b[0m\u001b[0;34m\u001b[0m\u001b[0m\n",
      "\u001b[0;32m~/anaconda3/lib/python3.6/site-packages/keras/utils/data_utils.py\u001b[0m in \u001b[0;36mget\u001b[0;34m(self)\u001b[0m\n\u001b[1;32m    576\u001b[0m         \u001b[0;32mtry\u001b[0m\u001b[0;34m:\u001b[0m\u001b[0;34m\u001b[0m\u001b[0m\n\u001b[1;32m    577\u001b[0m             \u001b[0;32mwhile\u001b[0m \u001b[0mself\u001b[0m\u001b[0;34m.\u001b[0m\u001b[0mis_running\u001b[0m\u001b[0;34m(\u001b[0m\u001b[0;34m)\u001b[0m\u001b[0;34m:\u001b[0m\u001b[0;34m\u001b[0m\u001b[0m\n\u001b[0;32m--> 578\u001b[0;31m                 \u001b[0minputs\u001b[0m \u001b[0;34m=\u001b[0m \u001b[0mself\u001b[0m\u001b[0;34m.\u001b[0m\u001b[0mqueue\u001b[0m\u001b[0;34m.\u001b[0m\u001b[0mget\u001b[0m\u001b[0;34m(\u001b[0m\u001b[0mblock\u001b[0m\u001b[0;34m=\u001b[0m\u001b[0;32mTrue\u001b[0m\u001b[0;34m)\u001b[0m\u001b[0;34m.\u001b[0m\u001b[0mget\u001b[0m\u001b[0;34m(\u001b[0m\u001b[0;34m)\u001b[0m\u001b[0;34m\u001b[0m\u001b[0m\n\u001b[0m\u001b[1;32m    579\u001b[0m                 \u001b[0mself\u001b[0m\u001b[0;34m.\u001b[0m\u001b[0mqueue\u001b[0m\u001b[0;34m.\u001b[0m\u001b[0mtask_done\u001b[0m\u001b[0;34m(\u001b[0m\u001b[0;34m)\u001b[0m\u001b[0;34m\u001b[0m\u001b[0m\n\u001b[1;32m    580\u001b[0m                 \u001b[0;32mif\u001b[0m \u001b[0minputs\u001b[0m \u001b[0;32mis\u001b[0m \u001b[0;32mnot\u001b[0m \u001b[0;32mNone\u001b[0m\u001b[0;34m:\u001b[0m\u001b[0;34m\u001b[0m\u001b[0m\n",
      "\u001b[0;32m~/anaconda3/lib/python3.6/multiprocessing/pool.py\u001b[0m in \u001b[0;36mget\u001b[0;34m(self, timeout)\u001b[0m\n\u001b[1;32m    636\u001b[0m \u001b[0;34m\u001b[0m\u001b[0m\n\u001b[1;32m    637\u001b[0m     \u001b[0;32mdef\u001b[0m \u001b[0mget\u001b[0m\u001b[0;34m(\u001b[0m\u001b[0mself\u001b[0m\u001b[0;34m,\u001b[0m \u001b[0mtimeout\u001b[0m\u001b[0;34m=\u001b[0m\u001b[0;32mNone\u001b[0m\u001b[0;34m)\u001b[0m\u001b[0;34m:\u001b[0m\u001b[0;34m\u001b[0m\u001b[0m\n\u001b[0;32m--> 638\u001b[0;31m         \u001b[0mself\u001b[0m\u001b[0;34m.\u001b[0m\u001b[0mwait\u001b[0m\u001b[0;34m(\u001b[0m\u001b[0mtimeout\u001b[0m\u001b[0;34m)\u001b[0m\u001b[0;34m\u001b[0m\u001b[0m\n\u001b[0m\u001b[1;32m    639\u001b[0m         \u001b[0;32mif\u001b[0m \u001b[0;32mnot\u001b[0m \u001b[0mself\u001b[0m\u001b[0;34m.\u001b[0m\u001b[0mready\u001b[0m\u001b[0;34m(\u001b[0m\u001b[0;34m)\u001b[0m\u001b[0;34m:\u001b[0m\u001b[0;34m\u001b[0m\u001b[0m\n\u001b[1;32m    640\u001b[0m             \u001b[0;32mraise\u001b[0m \u001b[0mTimeoutError\u001b[0m\u001b[0;34m\u001b[0m\u001b[0m\n",
      "\u001b[0;32m~/anaconda3/lib/python3.6/multiprocessing/pool.py\u001b[0m in \u001b[0;36mwait\u001b[0;34m(self, timeout)\u001b[0m\n\u001b[1;32m    633\u001b[0m \u001b[0;34m\u001b[0m\u001b[0m\n\u001b[1;32m    634\u001b[0m     \u001b[0;32mdef\u001b[0m \u001b[0mwait\u001b[0m\u001b[0;34m(\u001b[0m\u001b[0mself\u001b[0m\u001b[0;34m,\u001b[0m \u001b[0mtimeout\u001b[0m\u001b[0;34m=\u001b[0m\u001b[0;32mNone\u001b[0m\u001b[0;34m)\u001b[0m\u001b[0;34m:\u001b[0m\u001b[0;34m\u001b[0m\u001b[0m\n\u001b[0;32m--> 635\u001b[0;31m         \u001b[0mself\u001b[0m\u001b[0;34m.\u001b[0m\u001b[0m_event\u001b[0m\u001b[0;34m.\u001b[0m\u001b[0mwait\u001b[0m\u001b[0;34m(\u001b[0m\u001b[0mtimeout\u001b[0m\u001b[0;34m)\u001b[0m\u001b[0;34m\u001b[0m\u001b[0m\n\u001b[0m\u001b[1;32m    636\u001b[0m \u001b[0;34m\u001b[0m\u001b[0m\n\u001b[1;32m    637\u001b[0m     \u001b[0;32mdef\u001b[0m \u001b[0mget\u001b[0m\u001b[0;34m(\u001b[0m\u001b[0mself\u001b[0m\u001b[0;34m,\u001b[0m \u001b[0mtimeout\u001b[0m\u001b[0;34m=\u001b[0m\u001b[0;32mNone\u001b[0m\u001b[0;34m)\u001b[0m\u001b[0;34m:\u001b[0m\u001b[0;34m\u001b[0m\u001b[0m\n",
      "\u001b[0;32m~/anaconda3/lib/python3.6/threading.py\u001b[0m in \u001b[0;36mwait\u001b[0;34m(self, timeout)\u001b[0m\n\u001b[1;32m    549\u001b[0m             \u001b[0msignaled\u001b[0m \u001b[0;34m=\u001b[0m \u001b[0mself\u001b[0m\u001b[0;34m.\u001b[0m\u001b[0m_flag\u001b[0m\u001b[0;34m\u001b[0m\u001b[0m\n\u001b[1;32m    550\u001b[0m             \u001b[0;32mif\u001b[0m \u001b[0;32mnot\u001b[0m \u001b[0msignaled\u001b[0m\u001b[0;34m:\u001b[0m\u001b[0;34m\u001b[0m\u001b[0m\n\u001b[0;32m--> 551\u001b[0;31m                 \u001b[0msignaled\u001b[0m \u001b[0;34m=\u001b[0m \u001b[0mself\u001b[0m\u001b[0;34m.\u001b[0m\u001b[0m_cond\u001b[0m\u001b[0;34m.\u001b[0m\u001b[0mwait\u001b[0m\u001b[0;34m(\u001b[0m\u001b[0mtimeout\u001b[0m\u001b[0;34m)\u001b[0m\u001b[0;34m\u001b[0m\u001b[0m\n\u001b[0m\u001b[1;32m    552\u001b[0m             \u001b[0;32mreturn\u001b[0m \u001b[0msignaled\u001b[0m\u001b[0;34m\u001b[0m\u001b[0m\n\u001b[1;32m    553\u001b[0m \u001b[0;34m\u001b[0m\u001b[0m\n",
      "\u001b[0;32m~/anaconda3/lib/python3.6/threading.py\u001b[0m in \u001b[0;36mwait\u001b[0;34m(self, timeout)\u001b[0m\n\u001b[1;32m    293\u001b[0m         \u001b[0;32mtry\u001b[0m\u001b[0;34m:\u001b[0m    \u001b[0;31m# restore state no matter what (e.g., KeyboardInterrupt)\u001b[0m\u001b[0;34m\u001b[0m\u001b[0m\n\u001b[1;32m    294\u001b[0m             \u001b[0;32mif\u001b[0m \u001b[0mtimeout\u001b[0m \u001b[0;32mis\u001b[0m \u001b[0;32mNone\u001b[0m\u001b[0;34m:\u001b[0m\u001b[0;34m\u001b[0m\u001b[0m\n\u001b[0;32m--> 295\u001b[0;31m                 \u001b[0mwaiter\u001b[0m\u001b[0;34m.\u001b[0m\u001b[0macquire\u001b[0m\u001b[0;34m(\u001b[0m\u001b[0;34m)\u001b[0m\u001b[0;34m\u001b[0m\u001b[0m\n\u001b[0m\u001b[1;32m    296\u001b[0m                 \u001b[0mgotit\u001b[0m \u001b[0;34m=\u001b[0m \u001b[0;32mTrue\u001b[0m\u001b[0;34m\u001b[0m\u001b[0m\n\u001b[1;32m    297\u001b[0m             \u001b[0;32melse\u001b[0m\u001b[0;34m:\u001b[0m\u001b[0;34m\u001b[0m\u001b[0m\n",
      "\u001b[0;31mKeyboardInterrupt\u001b[0m: "
     ]
    }
   ],
   "source": [
    "model_json = model.to_json()\n",
    "with open(\"models/model.json\", \"w\") as json_file:\n",
    "    json_file.write(model_json)\n",
    "    \n",
    "hist = model.fit_generator(\n",
    "    train_generator,\n",
    "    steps_per_epoch = 100,\n",
    "    epochs = epochs,\n",
    "    validation_data = validation_generator,\n",
    "    validation_steps=50,\n",
    "    callbacks = [schedule, tensorboard, checkpoint])"
   ]
  },
  {
   "cell_type": "markdown",
   "metadata": {},
   "source": [
    "## Testing model"
   ]
  },
  {
   "cell_type": "code",
   "execution_count": 1,
   "metadata": {
    "ExecuteTime": {
     "end_time": "2018-07-27T01:19:33.651019Z",
     "start_time": "2018-07-27T01:19:31.619041Z"
    }
   },
   "outputs": [
    {
     "name": "stderr",
     "output_type": "stream",
     "text": [
      "/home/kenny/anaconda3/lib/python3.6/site-packages/h5py/__init__.py:36: FutureWarning: Conversion of the second argument of issubdtype from `float` to `np.floating` is deprecated. In future, it will be treated as `np.float64 == np.dtype(float).type`.\n",
      "  from ._conv import register_converters as _register_converters\n",
      "Using TensorFlow backend.\n"
     ]
    }
   ],
   "source": [
    "from keras.models import model_from_json\n",
    "\n",
    "json_file = open('models/model.json', 'r')\n",
    "loaded_model_json = json_file.read()\n",
    "json_file.close()\n",
    "loaded_model = model_from_json(loaded_model_json)\n",
    "loaded_model.load_weights('models/checkpoints/best_weights.hdf5')"
   ]
  },
  {
   "cell_type": "code",
   "execution_count": 2,
   "metadata": {
    "ExecuteTime": {
     "end_time": "2018-07-27T01:19:34.718974Z",
     "start_time": "2018-07-27T01:19:34.712901Z"
    }
   },
   "outputs": [],
   "source": [
    "import os\n",
    "import pickle\n",
    "with open(\"class_ids.txt\", 'rb') as fp:\n",
    "    class_idx = pickle.load(fp)\n",
    "categories = os.listdir('full')\n",
    "categories = [s.replace('.npy', '') for s in categories]"
   ]
  },
  {
   "cell_type": "code",
   "execution_count": 3,
   "metadata": {
    "ExecuteTime": {
     "end_time": "2018-07-27T01:19:37.421205Z",
     "start_time": "2018-07-27T01:19:37.183597Z"
    }
   },
   "outputs": [
    {
     "name": "stderr",
     "output_type": "stream",
     "text": [
      "/home/kenny/anaconda3/lib/python3.6/site-packages/ipykernel_launcher.py:7: DeprecationWarning: `imresize` is deprecated!\n",
      "`imresize` is deprecated in SciPy 1.0.0, and will be removed in 1.2.0.\n",
      "Use ``skimage.transform.resize`` instead.\n",
      "  import sys\n"
     ]
    },
    {
     "data": {
      "text/plain": [
       "<matplotlib.image.AxesImage at 0x7f739cdb6908>"
      ]
     },
     "execution_count": 3,
     "metadata": {},
     "output_type": "execute_result"
    },
    {
     "data": {
      "image/png": "[encoded data removed]",
      "text/plain": [
       "<Figure size 432x288 with 1 Axes>"
      ]
     },
     "metadata": {},
     "output_type": "display_data"
    }
   ],
   "source": [
    "import imageio\n",
    "from scipy.misc import imresize\n",
    "import matplotlib.pyplot as plt\n",
    "%matplotlib inline\n",
    "test_pred = imageio.imread('test_predictions/bed9.png', pilmode = 'L')\n",
    "# test_pred = np.invert(test_pred)\n",
    "test_pred = imresize(test_pred, (28,28) )\n",
    "\n",
    "# test_pred = imageio.imread('test_predictions/lightning0.png')\n",
    "\n",
    "plt.imshow(test_pred/255, cmap = 'gray')"
   ]
  },
  {
   "cell_type": "code",
   "execution_count": null,
   "metadata": {
    "ExecuteTime": {
     "start_time": "2018-07-27T01:19:39.021Z"
    }
   },
   "outputs": [],
   "source": [
    "test_pred_reshaped = test_pred.reshape(1, 28, 28, 1)/255\n",
    "pred = loaded_model.predict(test_pred_reshaped)"
   ]
  },
  {
   "cell_type": "code",
   "execution_count": 1,
   "metadata": {
    "ExecuteTime": {
     "end_time": "2018-07-27T01:19:05.571522Z",
     "start_time": "2018-07-27T01:19:05.290781Z"
    },
    "scrolled": true
   },
   "outputs": [
    {
     "ename": "NameError",
     "evalue": "name 'class_idx' is not defined",
     "output_type": "error",
     "traceback": [
      "\u001b[0;31m---------------------------------------------------------------------------\u001b[0m",
      "\u001b[0;31mNameError\u001b[0m                                 Traceback (most recent call last)",
      "\u001b[0;32m<ipython-input-1-96790c13967b>\u001b[0m in \u001b[0;36m<module>\u001b[0;34m()\u001b[0m\n\u001b[1;32m      2\u001b[0m \u001b[0;31m# class_idx = train_generator.class_indices\u001b[0m\u001b[0;34m\u001b[0m\u001b[0;34m\u001b[0m\u001b[0m\n\u001b[1;32m      3\u001b[0m \u001b[0;34m\u001b[0m\u001b[0m\n\u001b[0;32m----> 4\u001b[0;31m \u001b[0mclass_idx_df\u001b[0m \u001b[0;34m=\u001b[0m \u001b[0mpd\u001b[0m\u001b[0;34m.\u001b[0m\u001b[0mDataFrame\u001b[0m\u001b[0;34m(\u001b[0m\u001b[0;34m{\u001b[0m\u001b[0;34m'classes'\u001b[0m\u001b[0;34m:\u001b[0m\u001b[0mlist\u001b[0m\u001b[0;34m(\u001b[0m\u001b[0mclass_idx\u001b[0m\u001b[0;34m.\u001b[0m\u001b[0mkeys\u001b[0m\u001b[0;34m(\u001b[0m\u001b[0;34m)\u001b[0m\u001b[0;34m)\u001b[0m\u001b[0;34m}\u001b[0m\u001b[0;34m)\u001b[0m\u001b[0;34m.\u001b[0m\u001b[0mreset_index\u001b[0m\u001b[0;34m(\u001b[0m\u001b[0;34m)\u001b[0m\u001b[0;34m\u001b[0m\u001b[0m\n\u001b[0m\u001b[1;32m      5\u001b[0m \u001b[0msorted_probs\u001b[0m \u001b[0;34m=\u001b[0m \u001b[0mpd\u001b[0m\u001b[0;34m.\u001b[0m\u001b[0mDataFrame\u001b[0m\u001b[0;34m(\u001b[0m\u001b[0;34m{\u001b[0m\u001b[0;34m'probabilities'\u001b[0m\u001b[0;34m:\u001b[0m\u001b[0mpred\u001b[0m\u001b[0;34m.\u001b[0m\u001b[0mravel\u001b[0m\u001b[0;34m(\u001b[0m\u001b[0;34m)\u001b[0m\u001b[0;34m}\u001b[0m\u001b[0;34m)\u001b[0m\u001b[0;34m.\u001b[0m\u001b[0msort_values\u001b[0m\u001b[0;34m(\u001b[0m\u001b[0mby\u001b[0m \u001b[0;34m=\u001b[0m \u001b[0;34m'probabilities'\u001b[0m\u001b[0;34m,\u001b[0m \u001b[0mascending\u001b[0m\u001b[0;34m=\u001b[0m\u001b[0;32mFalse\u001b[0m\u001b[0;34m)\u001b[0m\u001b[0;34m.\u001b[0m                            \u001b[0mreset_index\u001b[0m\u001b[0;34m(\u001b[0m\u001b[0;34m)\u001b[0m\u001b[0;34m\u001b[0m\u001b[0m\n\u001b[1;32m      6\u001b[0m \u001b[0;34m\u001b[0m\u001b[0m\n",
      "\u001b[0;31mNameError\u001b[0m: name 'class_idx' is not defined"
     ]
    }
   ],
   "source": [
    "import pandas as pd\n",
    "# class_idx = train_generator.class_indices\n",
    "\n",
    "class_idx_df = pd.DataFrame({'classes':list(class_idx.keys())}).reset_index()\n",
    "sorted_probs = pd.DataFrame({'probabilities':pred.ravel()}).sort_values(by = 'probabilities', ascending=False).\\\n",
    "                            reset_index()\n",
    "\n",
    "merged = pd.merge(class_idx_df, sorted_probs).sort_values('probabilities', ascending=False).drop('index', axis=1)\n",
    "merged"
   ]
  },
  {
   "cell_type": "code",
   "execution_count": 8,
   "metadata": {
    "ExecuteTime": {
     "end_time": "2018-07-27T01:02:22.857053Z",
     "start_time": "2018-07-27T01:02:22.852535Z"
    }
   },
   "outputs": [],
   "source": [
    "import pickle\n",
    "with open(\"class_ids.txt\", \"wb\") as fp:\n",
    "    pickle.dump(class_idx, fp)"
   ]
  },
  {
   "cell_type": "code",
   "execution_count": 1,
   "metadata": {
    "ExecuteTime": {
     "end_time": "2018-07-28T01:28:45.778087Z",
     "start_time": "2018-07-28T01:28:45.566057Z"
    }
   },
   "outputs": [],
   "source": [
    "# removing unused categories\n",
    "\n",
    "\n",
    "import os\n",
    "not_used = os.listdir('not_used_categories/')\n",
    "not_used = [s.replace('.npy', '') for s in not_used]\n",
    "not_used = [s.replace(' ', '_') for s in not_used]\n",
    "\n",
    "\n",
    "for item in not_used:\n",
    "    if os.path.exists('train/' + item):\n",
    "        os.rmdir('train/' + item)\n",
    "    if os.path.exists('test/'+ item):\n",
    "        os.rmdir('test/' + item)\n",
    "    if os.path.exists('validation/' + item):    \n",
    "        os.rmdir('validation/' + item)"
   ]
  },
  {
   "cell_type": "code",
   "execution_count": null,
   "metadata": {},
   "outputs": [],
   "source": []
  }
 ],
 "metadata": {
  "kernelspec": {
   "display_name": "Python 3",
   "language": "python",
   "name": "python3"
  },
  "language_info": {
   "codemirror_mode": {
    "name": "ipython",
    "version": 3
   },
   "file_extension": ".py",
   "mimetype": "text/x-python",
   "name": "python",
   "nbconvert_exporter": "python",
   "pygments_lexer": "ipython3",
   "version": "3.6.5"
  },
  "toc": {
   "base_numbering": 1,
   "nav_menu": {},
   "number_sections": true,
   "sideBar": true,
   "skip_h1_title": false,
   "title_cell": "Table of Contents",
   "title_sidebar": "Contents",
   "toc_cell": false,
   "toc_position": {},
   "toc_section_display": true,
   "toc_window_display": false
  },
  "varInspector": {
   "cols": {
    "lenName": 16,
    "lenType": 16,
    "lenVar": 40
   },
   "kernels_config": {
    "python": {
     "delete_cmd_postfix": "",
     "delete_cmd_prefix": "del ",
     "library": "var_list.py",
     "varRefreshCmd": "print(var_dic_list())"
    },
    "r": {
     "delete_cmd_postfix": ") ",
     "delete_cmd_prefix": "rm(",
     "library": "var_list.r",
     "varRefreshCmd": "cat(var_dic_list()) "
    }
   },
   "types_to_exclude": [
    "module",
    "function",
    "builtin_function_or_method",
    "instance",
    "_Feature"
   ],
   "window_display": false
  }
 },
 "nbformat": 4,
 "nbformat_minor": 2
}
